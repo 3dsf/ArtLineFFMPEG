{
  "nbformat": 4,
  "nbformat_minor": 0,
  "metadata": {
    "colab": {
      "name": "ArtLineFFMPEG.ipynb",
      "provenance": [],
      "collapsed_sections": [
        "Y8AgUL1FgGEq",
        "yb_SIOJ7QO30",
        "THlQJklGgs3z",
        "0PDg63ZR3iKV",
        "Yt5OjMJxEcmz",
        "s5nvx843QCdL",
        "bap7Mn7v8XvY"
      ],
      "mount_file_id": "11XOJc8EmLWH5ZnXSUye1RGDk2R92hvrc",
      "authorship_tag": "ABX9TyODs/+svQe5c4YVlzQG5dKV",
      "include_colab_link": true
    },
    "kernelspec": {
      "name": "python3",
      "display_name": "Python 3"
    },
    "accelerator": "GPU"
  },
  "cells": [
    {
      "cell_type": "markdown",
      "metadata": {
        "id": "view-in-github",
        "colab_type": "text"
      },
      "source": [
        "<a href=\"https://colab.research.google.com/github/3dsf/ArtLineFFMPEG/blob/main/ArtLineFFMPEG.ipynb\" target=\"_parent\"><img src=\"https://colab.research.google.com/assets/colab-badge.svg\" alt=\"Open In Colab\"/></a>"
      ]
    },
    {
      "cell_type": "markdown",
      "metadata": {
        "id": "Y8AgUL1FgGEq"
      },
      "source": [
        "# ArtLine Video Conversion\n",
        "implementation of \n",
        "https://github.com/vijishmadhavan/ArtLine\n",
        "\n"
      ]
    },
    {
      "cell_type": "markdown",
      "metadata": {
        "id": "ek-yZXyUqvQd"
      },
      "source": [
        "# Setup\n"
      ]
    },
    {
      "cell_type": "markdown",
      "metadata": {
        "id": "HRjmZ9FD4mAg"
      },
      "source": [
        "## Install Libs"
      ]
    },
    {
      "cell_type": "code",
      "metadata": {
        "id": "K8YPFvvMVVvx"
      },
      "source": [
        "!apt install ffmpeg\n",
        "!pip install youtube-dl fastai==1.0.61 ffmpeg-python PyDrive"
      ],
      "execution_count": null,
      "outputs": []
    },
    {
      "cell_type": "code",
      "metadata": {
        "id": "91QUvPtn2yI4"
      },
      "source": [
        "import os\n",
        "os.makedirs(\"input\", exist_ok=True)\n",
        "os.makedirs(\"output\", exist_ok=True)"
      ],
      "execution_count": null,
      "outputs": []
    },
    {
      "cell_type": "markdown",
      "metadata": {
        "id": "ILNVpk0LqVCu"
      },
      "source": [
        "## Setup Colab to Access Your Google Drive\n",
        "**Not Required** *, but a mounted drive reduces downloads*\n",
        "### Copy the shared drive   `'Add to my Drive'` , validate the generated link\n",
        "\n",
        "\n",
        "*   https://drive.google.com/drive/folders/1cytDlb2ldtw6bq5_o8qZGifRiABruD2a?usp=sharing\n"
      ]
    },
    {
      "cell_type": "code",
      "metadata": {
        "id": "8ToaDlhnW3kL"
      },
      "source": [
        "from google.colab import drive\n",
        "drive.mount('/content/drive/')\n",
        "\n"
      ],
      "execution_count": null,
      "outputs": []
    },
    {
      "cell_type": "markdown",
      "metadata": {
        "id": "yb_SIOJ7QO30"
      },
      "source": [
        "## Download Infernce Code"
      ]
    },
    {
      "cell_type": "code",
      "metadata": {
        "id": "V59tVhvdIkQ1"
      },
      "source": [
        "!wget -O run.py https://gist.githubusercontent.com/3dsf/5827842bd6dc4fe7ada5dda868eb4599/raw/6ffc0b5010e30a9e52af684f752adb2142718961/run.py"
      ],
      "execution_count": null,
      "outputs": []
    },
    {
      "cell_type": "markdown",
      "metadata": {
        "id": "THlQJklGgs3z"
      },
      "source": [
        "# ---> Select your video to process"
      ]
    },
    {
      "cell_type": "code",
      "metadata": {
        "id": "WulJZB8GWWgx"
      },
      "source": [
        "youtubeVideo = \"https://www.youtube.com/watch?v=pBkHHoOIIn8\" #@param {type:\"string\"}\n",
        "!rm input.mp4\n",
        "!time(youtube-dl -f '[ext=mp4]' --output \"input.%(ext)s\"  $youtubeVideo)"
      ],
      "execution_count": null,
      "outputs": []
    },
    {
      "cell_type": "markdown",
      "metadata": {
        "id": "0PDg63ZR3iKV"
      },
      "source": [
        "# Decode Video"
      ]
    },
    {
      "cell_type": "code",
      "metadata": {
        "id": "pKEwZii43i1L"
      },
      "source": [
        "#Audio\n",
        "!rm audio.mp3\n",
        "!time(ffmpeg -i input.mp4  audio.mp3 -y) "
      ],
      "execution_count": null,
      "outputs": []
    },
    {
      "cell_type": "code",
      "metadata": {
        "id": "a4pMgdxoB3k5"
      },
      "source": [
        "#Visual\n",
        "!rm input/*.bmp output/*.bmp\n",
        "!time(ffmpeg -i input.mp4 input/frame.%05d.bmp)"
      ],
      "execution_count": null,
      "outputs": []
    },
    {
      "cell_type": "markdown",
      "metadata": {
        "id": "Yt5OjMJxEcmz"
      },
      "source": [
        "# ---> Select the Model to Use\n",
        "If you **didn't connect** to your **drive** and copy the models, **automatic fallback** is provided. "
      ]
    },
    {
      "cell_type": "code",
      "metadata": {
        "id": "XOGWZjslqwGG"
      },
      "source": [
        "artLineModel = \"ArtLine_500.pkl\" #@param [\"ArtLine_500.pkl\", \"ArtLine_650.pkl\", \"ArtLine_1024.pkl\"]\n",
        "pathToModel = os.path.join(\"/content/drive/MyDrive/ArtLineModels/\",artLineModel)\n",
        "\n",
        "downloadModel = {\n",
        "    \"ArtLine_500.pkl\": \"https://www.dropbox.com/s/p9lynpwygjmeed2/ArtLine_500.pkl\",\n",
        "    \"ArtLine_650.pkl\": \"https://www.dropbox.com/s/starqc9qd2e1lg1/ArtLine_650.pkl\",\n",
        "    \"ArtLine_1024.pkl\": \"https://www.dropbox.com/s/rq90q9lr9arwdp8/ArtLine_1024%20%281%29.pkl\"\n",
        "}\n",
        "import os.path as path\n",
        "import subprocess\n",
        "if path.isfile(pathToModel) == False : \n",
        "    if path.isfile(artLineModel) == False :\n",
        "        import subprocess\n",
        "        print(\"Downloading\")\n",
        "        subprocess.call(\"wget -O \" + artLineModel + \" \" + downloadModel[artLineModel] , shell=True)\n",
        "        pathToModel = artLineModel\n",
        "    else :\n",
        "        print(\"Found Local Version\")\n",
        "        pathToModel = artLineModel"
      ],
      "execution_count": null,
      "outputs": []
    },
    {
      "cell_type": "markdown",
      "metadata": {
        "id": "s5nvx843QCdL"
      },
      "source": [
        "# Run Model"
      ]
    },
    {
      "cell_type": "code",
      "metadata": {
        "id": "fHX3_NWZNies"
      },
      "source": [
        "!time(python run.py $pathToModel)"
      ],
      "execution_count": null,
      "outputs": []
    },
    {
      "cell_type": "markdown",
      "metadata": {
        "id": "bap7Mn7v8XvY"
      },
      "source": [
        "# ---> Select the Output Name and **Encode**\n"
      ]
    },
    {
      "cell_type": "code",
      "metadata": {
        "id": "IcuaaaJYW3ip"
      },
      "source": [
        "output_name = \"output.webm\" #@param {type:\"string\"}\n",
        "!time(ffmpeg -framerate `ffmpeg -i input.mp4 2>&1 | sed -n \"s/.*, \\(.*\\) fp.*/\\1/p\"` -thread_queue_size 8192 -i output/frame.%05d.bmp   -i audio.mp3  $output_name -y)"
      ],
      "execution_count": null,
      "outputs": []
    },
    {
      "cell_type": "markdown",
      "metadata": {
        "id": "JBsMMC0h-k-Q"
      },
      "source": [
        "# Download result"
      ]
    },
    {
      "cell_type": "code",
      "metadata": {
        "id": "HFnYWciQ-qMy"
      },
      "source": [
        "from google.colab import files\n",
        "\n",
        "files.download(output_name)"
      ],
      "execution_count": null,
      "outputs": []
    }
  ]
}
